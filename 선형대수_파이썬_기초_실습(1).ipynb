{
  "nbformat": 4,
  "nbformat_minor": 0,
  "metadata": {
    "colab": {
      "provenance": []
    },
    "kernelspec": {
      "name": "python3",
      "display_name": "Python 3"
    },
    "language_info": {
      "name": "python"
    }
  },
  "cells": [
    {
      "cell_type": "code",
      "source": [
        "import numpy as np"
      ],
      "metadata": {
        "id": "a0PbB_53ik2N"
      },
      "execution_count": 12,
      "outputs": []
    },
    {
      "cell_type": "markdown",
      "source": [
        "# 행렬의 선언"
      ],
      "metadata": {
        "id": "DaZjrB06k7VG"
      }
    },
    {
      "cell_type": "markdown",
      "source": [
        "numpy.array: 파이썬 리스트나 튜플을 사용하여 배열을 생성합니다."
      ],
      "metadata": {
        "id": "SstaMVshiZkN"
      }
    },
    {
      "cell_type": "code",
      "source": [
        "# 리스트로부터 배열 생성\n",
        "arr1 = np.array([1, 2, 3])\n",
        "print(arr1)  \n"
      ],
      "metadata": {
        "colab": {
          "base_uri": "https://localhost:8080/"
        },
        "id": "xNEFUncjifWp",
        "outputId": "b3452086-0855-498d-d8e9-eae38715c03f"
      },
      "execution_count": 13,
      "outputs": [
        {
          "output_type": "stream",
          "name": "stdout",
          "text": [
            "[1 2 3]\n"
          ]
        }
      ]
    },
    {
      "cell_type": "code",
      "source": [
        "# 중첩 리스트로부터 2차원 배열 생성\n",
        "arr2 = np.array([[1, 2], [3, 4]])\n",
        "print(arr2)\n",
        "\n",
        "arr3 = np.array([[1,2,3],[4,5,6],[7,8,9]])\n",
        "print(arr3)"
      ],
      "metadata": {
        "colab": {
          "base_uri": "https://localhost:8080/"
        },
        "id": "BQzLQ7JZiqpX",
        "outputId": "99d6e413-e575-45c4-d775-7175ae0bcd26"
      },
      "execution_count": 14,
      "outputs": [
        {
          "output_type": "stream",
          "name": "stdout",
          "text": [
            "[[1 2]\n",
            " [3 4]]\n",
            "[[1 2 3]\n",
            " [4 5 6]\n",
            " [7 8 9]]\n"
          ]
        }
      ]
    },
    {
      "cell_type": "code",
      "source": [
        "print(arr3)\n",
        "print(\"Shape: \", arr3.shape)\n",
        "print(\"Data type: \", arr3.dtype)\n",
        "print(\"Size: \", arr3.size)"
      ],
      "metadata": {
        "colab": {
          "base_uri": "https://localhost:8080/"
        },
        "id": "nAkPUbr7kUgA",
        "outputId": "6957ac98-c5fc-40e3-f2a8-974c5248e7e9"
      },
      "execution_count": 15,
      "outputs": [
        {
          "output_type": "stream",
          "name": "stdout",
          "text": [
            "[[1 2 3]\n",
            " [4 5 6]\n",
            " [7 8 9]]\n",
            "Shape:  (3, 3)\n",
            "Data type:  int64\n",
            "Size:  9\n"
          ]
        }
      ]
    },
    {
      "cell_type": "markdown",
      "source": [
        "numpy.zeros: 모든 요소가 0인 배열을 생성합니다."
      ],
      "metadata": {
        "id": "6EJK8N_oi6Ez"
      }
    },
    {
      "cell_type": "code",
      "source": [
        "# 2x3 배열 생성\n",
        "arr = np.zeros((2, 3))\n",
        "print(arr)"
      ],
      "metadata": {
        "colab": {
          "base_uri": "https://localhost:8080/"
        },
        "id": "z0Cp-UBHi741",
        "outputId": "7019c7a1-9cd2-4755-d5cc-08248b2ebc1a"
      },
      "execution_count": 16,
      "outputs": [
        {
          "output_type": "stream",
          "name": "stdout",
          "text": [
            "[[0. 0. 0.]\n",
            " [0. 0. 0.]]\n"
          ]
        }
      ]
    },
    {
      "cell_type": "markdown",
      "source": [
        "numpy.ones: 모든 요소가 1인 배열을 생성합니다.\n"
      ],
      "metadata": {
        "id": "r3nt4UdCjDJ5"
      }
    },
    {
      "cell_type": "code",
      "source": [
        "# 3x2 배열 생성\n",
        "arr = np.ones((3, 2))\n",
        "print(arr)"
      ],
      "metadata": {
        "colab": {
          "base_uri": "https://localhost:8080/"
        },
        "id": "Cm6KsalBjIGP",
        "outputId": "aaa7d1cb-78bb-49d0-80a2-f8426fc4ef73"
      },
      "execution_count": 17,
      "outputs": [
        {
          "output_type": "stream",
          "name": "stdout",
          "text": [
            "[[1. 1.]\n",
            " [1. 1.]\n",
            " [1. 1.]]\n"
          ]
        }
      ]
    },
    {
      "cell_type": "markdown",
      "source": [
        "numpy.eye: 단위 행렬(identity matrix)을 생성합니다."
      ],
      "metadata": {
        "id": "6l6gc-vXjQE9"
      }
    },
    {
      "cell_type": "code",
      "source": [
        "# 3x3 단위 행렬 생성\n",
        "arr = np.eye(3)\n",
        "print(arr)"
      ],
      "metadata": {
        "colab": {
          "base_uri": "https://localhost:8080/"
        },
        "id": "VoZzih4yjPHu",
        "outputId": "0fc76e6e-943a-4f18-8dbd-ab2814c03185"
      },
      "execution_count": 18,
      "outputs": [
        {
          "output_type": "stream",
          "name": "stdout",
          "text": [
            "[[1. 0. 0.]\n",
            " [0. 1. 0.]\n",
            " [0. 0. 1.]]\n"
          ]
        }
      ]
    },
    {
      "cell_type": "markdown",
      "source": [
        "numpy.arange: 지정된 범위 내의 값을 가진 배열을 생성합니다."
      ],
      "metadata": {
        "id": "0wuhiNlkjXpT"
      }
    },
    {
      "cell_type": "code",
      "source": [
        "# 0부터 9까지의 정수를 가진 배열 생성\n",
        "arr = np.arange(10)\n",
        "print(arr)"
      ],
      "metadata": {
        "colab": {
          "base_uri": "https://localhost:8080/"
        },
        "id": "jIgHNTUfjYwp",
        "outputId": "9c2dd3d2-0d1d-4eb3-f5f3-fd6349c2e97f"
      },
      "execution_count": 19,
      "outputs": [
        {
          "output_type": "stream",
          "name": "stdout",
          "text": [
            "[0 1 2 3 4 5 6 7 8 9]\n"
          ]
        }
      ]
    },
    {
      "cell_type": "markdown",
      "source": [
        "numpy.linspace: 지정된 범위 내에서 균일한 간격으로 값을 가진 배열을 생성합니다."
      ],
      "metadata": {
        "id": "eNSRpeDfjtT4"
      }
    },
    {
      "cell_type": "code",
      "source": [
        "# 0부터 1까지의 범위에서 5개의 값을 가진 배열 생성\n",
        "arr = np.linspace(0, 1, 5)\n",
        "print(arr)"
      ],
      "metadata": {
        "colab": {
          "base_uri": "https://localhost:8080/"
        },
        "id": "qxzS9BYYjuLv",
        "outputId": "2cbc0f66-8bd4-4dc7-bebb-eb166f576685"
      },
      "execution_count": 20,
      "outputs": [
        {
          "output_type": "stream",
          "name": "stdout",
          "text": [
            "[0.   0.25 0.5  0.75 1.  ]\n"
          ]
        }
      ]
    },
    {
      "cell_type": "markdown",
      "source": [
        "numpy.random: 난수를 사용하여 배열을 생성합니다."
      ],
      "metadata": {
        "id": "p6xYS0YfjceY"
      }
    },
    {
      "cell_type": "code",
      "source": [
        "# 0부터 1까지의 범위에서 무작위 값으로 채워진 2x3 배열 생성\n",
        "arr = np.random.random((2, 3))\n",
        "print(arr)"
      ],
      "metadata": {
        "colab": {
          "base_uri": "https://localhost:8080/"
        },
        "id": "DmFsQGNMjnJR",
        "outputId": "5ffe735e-1b19-4256-c989-1a3e4fc983bf"
      },
      "execution_count": 21,
      "outputs": [
        {
          "output_type": "stream",
          "name": "stdout",
          "text": [
            "[[0.63780628 0.55322144 0.92134357]\n",
            " [0.62657691 0.75903074 0.65072541]]\n"
          ]
        }
      ]
    },
    {
      "cell_type": "markdown",
      "source": [
        "# 행렬의 곱셈\n",
        "\n",
        "numpy.dot(행렬1, 행렬2)"
      ],
      "metadata": {
        "id": "eN_Hg7W-lQMt"
      }
    },
    {
      "cell_type": "code",
      "source": [
        "# 2x3 행렬 A와 3x2 행렬 B를 생성합니다.\n",
        "A = np.array([[1, 2, 3], [4, 5, 6]])\n",
        "B = np.array([[7, 8], [9, 10], [11, 12]])\n",
        "\n",
        "# 행렬 A와 B를 곱합니다.\n",
        "C = np.dot(A, B)\n",
        "\n",
        "# 결과를 출력합니다.\n",
        "print(C)"
      ],
      "metadata": {
        "colab": {
          "base_uri": "https://localhost:8080/"
        },
        "id": "Aknx0ZWZloZl",
        "outputId": "97a08030-04b0-4ac6-fafc-9443380cc397"
      },
      "execution_count": 22,
      "outputs": [
        {
          "output_type": "stream",
          "name": "stdout",
          "text": [
            "[[ 58  64]\n",
            " [139 154]]\n"
          ]
        }
      ]
    }
  ]
}